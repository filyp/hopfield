{
 "cells": [
  {
   "cell_type": "code",
   "execution_count": 1,
   "metadata": {},
   "outputs": [
    {
     "data": {
      "text/html": [
       "<style>\n",
       ".cell-output-ipywidget-background {\n",
       "   background-color: transparent !important;\n",
       "}\n",
       ".jp-OutputArea-output {\n",
       "   background-color: transparent;\n",
       "}  \n",
       "</style>\n"
      ],
      "text/plain": [
       "<IPython.core.display.HTML object>"
      ]
     },
     "metadata": {},
     "output_type": "display_data"
    }
   ],
   "source": [
    "%%html\n",
    "<style>\n",
    ".cell-output-ipywidget-background {\n",
    "   background-color: transparent !important;\n",
    "}\n",
    ".jp-OutputArea-output {\n",
    "   background-color: transparent;\n",
    "}  \n",
    "</style>"
   ]
  },
  {
   "cell_type": "code",
   "execution_count": 2,
   "metadata": {},
   "outputs": [],
   "source": [
    "import numpy as np\n",
    "from time import sleep, time\n",
    "from threading import Thread\n",
    "from ipycanvas import Canvas, hold_canvas\n",
    "from ipywidgets import Output\n",
    "\n",
    "out = Output()"
   ]
  },
  {
   "cell_type": "code",
   "execution_count": 12,
   "metadata": {},
   "outputs": [],
   "source": [
    "class Network:\n",
    "    def __init__(self, nonlinearity=5):\n",
    "        self.memories = []\n",
    "        self.nonlinearity = nonlinearity\n",
    "    \n",
    "    def add_memory(self, memory):\n",
    "        self.memories.append(memory)\n",
    "    \n",
    "    def calculate_weights(self):\n",
    "        weights = []\n",
    "        for memory in self.memories:\n",
    "            _weights = np.outer(memory, memory)\n",
    "            _weights /= np.mean(memory @ _weights) / np.mean(memory)\n",
    "            weights.append(_weights)\n",
    "        self.weights = np.mean(weights, axis=0)\n",
    "\n",
    "    def single_value_hopfield_update(self, state, index):\n",
    "        # single value hopfied update\n",
    "        value = self.weights[index] @ state\n",
    "        state[index] = np.clip(self.nonlinearity * value, -1, 1)\n",
    "        return state\n",
    "\n",
    "# # hopfield update\n",
    "# state = weights @ state\n",
    "# # normalize\n",
    "# state = state / np.average(state)"
   ]
  },
  {
   "cell_type": "code",
   "execution_count": 4,
   "metadata": {},
   "outputs": [],
   "source": [
    "def draw(state, canvas, n_pixels=50):\n",
    "    state = (state + 1) / 2\n",
    "    with hold_canvas(canvas):\n",
    "        canvas.clear()\n",
    "        state = state.reshape(8, 8)\n",
    "        rects = []\n",
    "        for i, row in enumerate(state):\n",
    "            for j, value in enumerate(row):\n",
    "                # canvas.fill_style = f'rgb({int(value * 255)}, {int(value * 255)}, {int(value * 255)})'\n",
    "                # canvas.fill_rect(i * n_pixels, j * n_pixels, n_pixels, n_pixels)\n",
    "                value = int(value * 255)\n",
    "                # color = f'rgb({value}, {value}, {value})'\n",
    "                color = (value, value, value)\n",
    "                rects.append((i * n_pixels, j * n_pixels, n_pixels, n_pixels, color, 1))\n",
    "        \n",
    "        xs, ys, ws, hs, colors, alphas = zip(*rects)\n",
    "        xs, ys, ws, hs, colors, alphas = list(xs), list(ys), list(ws), list(hs), list(colors), list(alphas)\n",
    "        canvas.fill_styled_rects(xs, ys, ws, hs, colors, alphas)"
   ]
  },
  {
   "cell_type": "code",
   "execution_count": 5,
   "metadata": {},
   "outputs": [
    {
     "data": {
      "application/vnd.jupyter.widget-view+json": {
       "model_id": "1f01e098ba1e445db00ffa632499bc19",
       "version_major": 2,
       "version_minor": 0
      },
      "text/plain": [
       "Canvas(height=400, width=400)"
      ]
     },
     "metadata": {},
     "output_type": "display_data"
    }
   ],
   "source": [
    "n_pixels = 50\n",
    "\n",
    "canvas = Canvas(width=8 * n_pixels, height=8 * n_pixels)\n",
    "network = Network()\n",
    "\n",
    "# black state\n",
    "state = -np.ones(64)\n",
    "draw(state, canvas)\n",
    "\n",
    "# drawing on canvas with mouse\n",
    "@out.capture()\n",
    "def handle_mouse_down(x, y):\n",
    "    x = int(x / n_pixels)\n",
    "    y = int(y / n_pixels)\n",
    "    print(x, y)\n",
    "    index = x * 8 + y\n",
    "    if state[index] != 1.0:\n",
    "        state[index] = 1.0\n",
    "        draw(state, canvas)\n",
    "\n",
    "canvas.on_mouse_down(handle_mouse_down)\n",
    "canvas"
   ]
  },
  {
   "cell_type": "code",
   "execution_count": 9,
   "metadata": {},
   "outputs": [],
   "source": [
    "network.add_memory(state)\n",
    "network.calculate_weights()\n",
    "\n",
    "# black state\n",
    "state = -np.ones(64)\n",
    "draw(state, canvas)"
   ]
  },
  {
   "cell_type": "code",
   "execution_count": 43,
   "metadata": {},
   "outputs": [],
   "source": [
    "# initialize random state\n",
    "state = np.random.choice([-1.0, 1.0], size=64)\n",
    "draw(state, canvas)"
   ]
  },
  {
   "cell_type": "code",
   "execution_count": 44,
   "metadata": {},
   "outputs": [],
   "source": [
    "# randomply shuffled indexes\n",
    "indexes = np.arange(0, 64)\n",
    "np.random.shuffle(indexes)\n",
    "# duplicate indexes\n",
    "# indexes = np.concatenate([indexes, indexes])\n",
    "\n",
    "start_time = time()\n",
    "for i, index in enumerate(indexes):\n",
    "    _to_sleep = i * 0.01 - (time() - start_time)\n",
    "    sleep(max(0, _to_sleep))\n",
    "\n",
    "    draw(state, canvas)\n",
    "    state = network.single_value_hopfield_update(state, index)"
   ]
  },
  {
   "cell_type": "code",
   "execution_count": 13,
   "metadata": {},
   "outputs": [],
   "source": [
    "network.nonlinearity = 5"
   ]
  }
 ],
 "metadata": {
  "kernelspec": {
   "display_name": "Python 3.10.6 64-bit",
   "language": "python",
   "name": "python3"
  },
  "language_info": {
   "codemirror_mode": {
    "name": "ipython",
    "version": 3
   },
   "file_extension": ".py",
   "mimetype": "text/x-python",
   "name": "python",
   "nbconvert_exporter": "python",
   "pygments_lexer": "ipython3",
   "version": "3.10.6"
  },
  "orig_nbformat": 4,
  "vscode": {
   "interpreter": {
    "hash": "e7370f93d1d0cde622a1f8e1c04877d8463912d04d973331ad4851f04de6915a"
   }
  }
 },
 "nbformat": 4,
 "nbformat_minor": 2
}
